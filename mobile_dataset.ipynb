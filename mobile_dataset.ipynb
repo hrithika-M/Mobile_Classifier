{
  "nbformat": 4,
  "nbformat_minor": 0,
  "metadata": {
    "colab": {
      "provenance": []
    },
    "kernelspec": {
      "name": "ir",
      "display_name": "R"
    },
    "language_info": {
      "name": "R"
    }
  },
  "cells": [
    {
      "cell_type": "code",
      "execution_count": null,
      "metadata": {
        "colab": {
          "base_uri": "https://localhost:8080/"
        },
        "id": "p0ggQRWDzftW",
        "outputId": "000e1ada-1cc8-46f1-9140-0bbfb3528920"
      },
      "outputs": [
        {
          "output_type": "stream",
          "name": "stderr",
          "text": [
            "Installing package into ‘/usr/local/lib/R/site-library’\n",
            "(as ‘lib’ is unspecified)\n",
            "\n",
            "Warning message in install.packages(\"dplyr\"):\n",
            "“installation of package ‘dplyr’ had non-zero exit status”\n",
            "Installing package into ‘/usr/local/lib/R/site-library’\n",
            "(as ‘lib’ is unspecified)\n",
            "\n"
          ]
        },
        {
          "output_type": "stream",
          "name": "stdout",
          "text": [
            "Data cleaning completed and saved to 'cleaned_user_behavior_dataset.csv'.\n"
          ]
        }
      ],
      "source": [
        "install.packages(\"dplyr\")\n",
        "install.packages(\"tidyr\")\n",
        "library(dplyr)\n",
        "library(tidyr)\n",
        "file_path <- \"user_behavior_dataset.csv\"\n",
        "user_data <- read.csv(file_path)\n",
        "user_data_cleaned <- na.omit(user_data) %>%\n",
        "  distinct()\n",
        "user_data_cleaned <- user_data_cleaned %>%\n",
        "  mutate(across(where(is.numeric), scale))\n",
        "write.csv(user_data_cleaned, \"cleaned_user_behavior_dataset.csv\", row.names = FALSE)\n",
        "cat(\"Data cleaning completed and saved to 'cleaned_user_behavior_dataset.csv'.\\n\")"
      ]
    },
    {
      "cell_type": "code",
      "source": [
        "# Install and load necessary libraries\n",
        "install.packages(\"caret\")  # For data partitioning and accuracy metrics\n",
        "install.packages(\"Metrics\")  # For RMSE calculation\n",
        "library(caret)\n",
        "library(Metrics)\n",
        "\n",
        "# Load the dataset\n",
        "data <- read.csv(\"user_behavior_dataset.csv\")\n",
        "\n",
        "# Inspect and prepare the data\n",
        "str(data)\n",
        "summary(data)\n",
        "\n",
        "# Assuming 'App.Usage.Time..min.day.' is the target variable (replace with actual target variable name)\n",
        "# Clean the data by removing missing values and duplicates\n",
        "data <- na.omit(data)  # Remove missing values\n",
        "data <- data[!duplicated(data), ]  # Remove duplicate rows\n",
        "\n",
        "# Split data into training (70%) and testing (30%)\n",
        "set.seed(123)  # For reproducibility\n",
        "train_indices <- createDataPartition(data$App.Usage.Time..min.day., p = 0.7, list = FALSE)\n",
        "train_data <- data[train_indices, ]\n",
        "test_data <- data[-train_indices, ]\n",
        "\n",
        "# Fit a linear regression model\n",
        "lm_model <- lm(App.Usage.Time..min.day. ~ ., data = train_data)  # Replace '.' with specific predictors if needed\n",
        "summary(lm_model)  # Summary of the model\n",
        "\n",
        "# Predict on the test dataset\n",
        "predictions <- predict(lm_model, newdata = test_data)\n",
        "\n",
        "# Evaluate the model\n",
        "# Calculate RMSE (Root Mean Squared Error)\n",
        "rmse_value <- rmse(test_data$App.Usage.Time..min.day., predictions)\n",
        "\n",
        "# Calculate R-squared\n",
        "ss_total <- sum((test_data$App.Usage.Time..min.day. - mean(test_data$App.Usage.Time..min.day.))^2)\n",
        "ss_residual <- sum((test_data$App.Usage.Time..min.day. - predictions)^2)\n",
        "r_squared <- 1 - (ss_residual / ss_total)\n",
        "\n",
        "# Print the accuracy metrics (Overall performance)\n",
        "cat(\"Root Mean Squared Error (RMSE):\", rmse_value, \"\\n\")\n",
        "cat(\"R-squared (R²):\", r_squared, \"\\n\")\n",
        "\n",
        "# Optionally, also print the Adjusted R-squared from the model summary\n",
        "cat(\"Adjusted R-squared:\", summary(lm_model)$adj.r.squared, \"\\n\")\n"
      ],
      "metadata": {
        "colab": {
          "base_uri": "https://localhost:8080/",
          "height": 1000
        },
        "id": "xF5gfvAN4p2S",
        "outputId": "1dd1367d-5b42-47a2-efda-c9b0b6092347"
      },
      "execution_count": null,
      "outputs": [
        {
          "output_type": "stream",
          "name": "stderr",
          "text": [
            "Installing package into ‘/usr/local/lib/R/site-library’\n",
            "(as ‘lib’ is unspecified)\n",
            "\n",
            "Installing package into ‘/usr/local/lib/R/site-library’\n",
            "(as ‘lib’ is unspecified)\n",
            "\n"
          ]
        },
        {
          "output_type": "stream",
          "name": "stdout",
          "text": [
            "'data.frame':\t700 obs. of  11 variables:\n",
            " $ User.ID                   : int  1 2 3 4 5 6 7 8 9 10 ...\n",
            " $ Device.Model              : chr  \"Google Pixel 5\" \"OnePlus 9\" \"Xiaomi Mi 11\" \"Google Pixel 5\" ...\n",
            " $ Operating.System          : chr  \"Android\" \"Android\" \"Android\" \"Android\" ...\n",
            " $ App.Usage.Time..min.day.  : int  393 268 154 239 187 99 350 543 340 424 ...\n",
            " $ Screen.On.Time..hours.day.: num  6.4 4.7 4 4.8 4.3 2 7.3 11.4 7.7 6.6 ...\n",
            " $ Battery.Drain..mAh.day.   : int  1872 1331 761 1676 1367 940 1802 2956 2138 1957 ...\n",
            " $ Number.of.Apps.Installed  : int  67 42 32 56 58 35 66 82 75 75 ...\n",
            " $ Data.Usage..MB.day.       : int  1122 944 322 871 988 564 1054 1702 1053 1301 ...\n",
            " $ Age                       : int  40 47 42 20 31 31 21 31 42 42 ...\n",
            " $ Gender                    : chr  \"Male\" \"Female\" \"Male\" \"Male\" ...\n",
            " $ User.Behavior.Class       : int  4 3 2 3 3 2 4 5 4 4 ...\n"
          ]
        },
        {
          "output_type": "display_data",
          "data": {
            "text/plain": [
              "    User.ID      Device.Model       Operating.System   App.Usage.Time..min.day.\n",
              " Min.   :  1.0   Length:700         Length:700         Min.   : 30.0           \n",
              " 1st Qu.:175.8   Class :character   Class :character   1st Qu.:113.2           \n",
              " Median :350.5   Mode  :character   Mode  :character   Median :227.5           \n",
              " Mean   :350.5                                         Mean   :271.1           \n",
              " 3rd Qu.:525.2                                         3rd Qu.:434.2           \n",
              " Max.   :700.0                                         Max.   :598.0           \n",
              " Screen.On.Time..hours.day. Battery.Drain..mAh.day. Number.of.Apps.Installed\n",
              " Min.   : 1.000             Min.   : 302.0          Min.   :10.00           \n",
              " 1st Qu.: 2.500             1st Qu.: 722.2          1st Qu.:26.00           \n",
              " Median : 4.900             Median :1502.5          Median :49.00           \n",
              " Mean   : 5.273             Mean   :1525.2          Mean   :50.68           \n",
              " 3rd Qu.: 7.400             3rd Qu.:2229.5          3rd Qu.:74.00           \n",
              " Max.   :12.000             Max.   :2993.0          Max.   :99.00           \n",
              " Data.Usage..MB.day.      Age           Gender          User.Behavior.Class\n",
              " Min.   : 102.0      Min.   :18.00   Length:700         Min.   :1.00       \n",
              " 1st Qu.: 373.0      1st Qu.:28.00   Class :character   1st Qu.:2.00       \n",
              " Median : 823.5      Median :38.00   Mode  :character   Median :3.00       \n",
              " Mean   : 929.7      Mean   :38.48                      Mean   :2.99       \n",
              " 3rd Qu.:1341.0      3rd Qu.:49.00                      3rd Qu.:4.00       \n",
              " Max.   :2497.0      Max.   :59.00                      Max.   :5.00       "
            ]
          },
          "metadata": {}
        },
        {
          "output_type": "display_data",
          "data": {
            "text/plain": [
              "\n",
              "Call:\n",
              "lm(formula = App.Usage.Time..min.day. ~ ., data = train_data)\n",
              "\n",
              "Residuals:\n",
              "    Min      1Q  Median      3Q     Max \n",
              "-97.743 -29.762   3.822  27.548  97.626 \n",
              "\n",
              "Coefficients: (1 not defined because of singularities)\n",
              "                                Estimate Std. Error t value Pr(>|t|)    \n",
              "(Intercept)                    -60.41666    9.92562  -6.087 2.36e-09 ***\n",
              "User.ID                          0.00228    0.00903   0.253  0.80075    \n",
              "Device.ModeliPhone 12           -5.56400    5.64415  -0.986  0.32473    \n",
              "Device.ModelOnePlus 9           -8.62425    5.77807  -1.493  0.13620    \n",
              "Device.ModelSamsung Galaxy S21  -6.94706    5.78101  -1.202  0.23007    \n",
              "Device.ModelXiaomi Mi 11        -9.64258    5.82768  -1.655  0.09866 .  \n",
              "Operating.SystemiOS                   NA         NA      NA       NA    \n",
              "Screen.On.Time..hours.day.       5.23941    2.41950   2.165  0.03084 *  \n",
              "Battery.Drain..mAh.day.          0.03375    0.01066   3.167  0.00164 ** \n",
              "Number.of.Apps.Installed         0.63274    0.35149   1.800  0.07247 .  \n",
              "Data.Usage..MB.day.              0.04979    0.00945   5.269 2.08e-07 ***\n",
              "Age                              0.07871    0.15213   0.517  0.60510    \n",
              "GenderMale                      -1.74298    3.62432  -0.481  0.63080    \n",
              "User.Behavior.Class             59.67015    9.91107   6.021 3.46e-09 ***\n",
              "---\n",
              "Signif. codes:  0 ‘***’ 0.001 ‘**’ 0.01 ‘*’ 0.05 ‘.’ 0.1 ‘ ’ 1\n",
              "\n",
              "Residual standard error: 39.86 on 479 degrees of freedom\n",
              "Multiple R-squared:  0.951,\tAdjusted R-squared:  0.9497 \n",
              "F-statistic: 774.1 on 12 and 479 DF,  p-value: < 2.2e-16\n"
            ]
          },
          "metadata": {}
        },
        {
          "output_type": "stream",
          "name": "stdout",
          "text": [
            "Root Mean Squared Error (RMSE): 41.86585 \n",
            "R-squared (R²): 0.9432785 \n",
            "Adjusted R-squared: 0.9497363 \n"
          ]
        }
      ]
    },
    {
      "cell_type": "code",
      "source": [
        "# Load necessary libraries\n",
        "library(caret)\n",
        "\n",
        "# Assuming 'data' is your full dataset\n",
        "# Set seed for reproducibility\n",
        "set.seed(123)\n",
        "\n",
        "# Convert 'Gender' to binary (0 for Female, 1 for Male)\n",
        "data$Gender <- factor(data$Gender, levels = c(\"Female\", \"Male\"))\n",
        "data$Gender <- as.numeric(data$Gender) - 1  # Female = 0, Male = 1\n",
        "\n",
        "# Split the data into 70% training and 30% testing\n",
        "trainIndex <- createDataPartition(data$Gender, p = 0.7, list = FALSE)\n",
        "train_data <- data[trainIndex, ]\n",
        "test_data <- data[-trainIndex, ]\n",
        "\n",
        "# Fit a logistic regression model\n",
        "model <- glm(Gender ~ App.Usage.Time..min.day. + Screen.On.Time..hours.day. +\n",
        "                Battery.Drain..mAh.day. + Data.Usage..MB.day. + Age + Device.Model,\n",
        "             family = binomial, data = train_data)\n",
        "\n",
        "# Display the model summary\n",
        "summary(model)\n",
        "\n",
        "# Predict on the test set\n",
        "predicted_probabilities <- predict(model, test_data, type = \"response\")\n",
        "\n",
        "# Convert probabilities to class labels (0 or 1)\n",
        "predicted_class <- ifelse(predicted_probabilities > 0.5, 1, 0)\n",
        "\n",
        "# Convert predicted_class and test_data$Gender to factors (for confusion matrix)\n",
        "predicted_class <- factor(predicted_class, levels = c(0, 1), labels = c(\"Female\", \"Male\"))\n",
        "test_data$Gender <- factor(test_data$Gender, levels = c(0, 1), labels = c(\"Female\", \"Male\"))\n",
        "\n",
        "# Calculate accuracy\n",
        "accuracy <- sum(predicted_class == test_data$Gender) / nrow(test_data)\n",
        "cat(\"Accuracy: \", accuracy * 100, \"%\\n\")\n",
        "\n",
        "# Confusion Matrix\n",
        "confusion_matrix <- table(predicted_class, test_data$Gender)\n",
        "print(confusion_matrix)\n",
        "\n",
        "# Calculate Precision and Recall\n",
        "precision <- posPredValue(predicted_class, test_data$Gender, positive = \"Male\")\n",
        "recall <- sensitivity(predicted_class, test_data$Gender, positive = \"Male\")\n",
        "cat(\"Precision: \", precision, \"\\n\")\n",
        "cat(\"Recall: \", recall, \"\\n\")\n"
      ],
      "metadata": {
        "colab": {
          "base_uri": "https://localhost:8080/",
          "height": 419
        },
        "id": "nxvM_A3N_VJq",
        "outputId": "99a50cff-edd7-4547-ec67-b42d7ac3f850"
      },
      "execution_count": null,
      "outputs": [
        {
          "output_type": "error",
          "ename": "ERROR",
          "evalue": "Error in quantile.default(y, probs = seq(0, 1, length = groups)): missing values and NaN's not allowed if 'na.rm' is FALSE\n",
          "traceback": [
            "Error in quantile.default(y, probs = seq(0, 1, length = groups)): missing values and NaN's not allowed if 'na.rm' is FALSE\nTraceback:\n",
            "1. cut(y, unique(quantile(y, probs = seq(0, 1, length = groups))), \n .     include.lowest = TRUE)",
            "2. cut.default(y, unique(quantile(y, probs = seq(0, 1, length = groups))), \n .     include.lowest = TRUE)",
            "3. unique(quantile(y, probs = seq(0, 1, length = groups)))",
            "4. quantile(y, probs = seq(0, 1, length = groups))",
            "5. quantile.default(y, probs = seq(0, 1, length = groups))",
            "6. stop(\"missing values and NaN's not allowed if 'na.rm' is FALSE\")",
            "7. .handleSimpleError(function (cnd) \n . {\n .     watcher$capture_plot_and_output()\n .     cnd <- sanitize_call(cnd)\n .     watcher$push(cnd)\n .     switch(on_error, continue = invokeRestart(\"eval_continue\"), \n .         stop = invokeRestart(\"eval_stop\"), error = invokeRestart(\"eval_error\", \n .             cnd))\n . }, \"missing values and NaN's not allowed if 'na.rm' is FALSE\", \n .     base::quote(quantile.default(y, probs = seq(0, 1, length = groups))))"
          ]
        }
      ]
    },
    {
      "cell_type": "code",
      "source": [
        "# Load necessary packages\n",
        "install.packages(\"nnet\")\n",
        "install.packages(\"caret\")\n",
        "library(nnet)\n",
        "library(caret)\n",
        "\n",
        "# Load the dataset (assuming the dataset file is 'user_behavior_dataset.csv')\n",
        "mobile_data <- read.csv(\"user_behavior_dataset.csv\")\n",
        "\n",
        "# Split the dataset into 70% training and 30% testing\n",
        "set.seed(123)  # For reproducibility\n",
        "train_index <- createDataPartition(mobile_data$Device.Model, p = 0.7, list = FALSE)\n",
        "train_data <- mobile_data[train_index, ]\n",
        "test_data <- mobile_data[-train_index, ]\n",
        "\n",
        "# Ensure that the target variable Device.Model is a factor in both train and test data\n",
        "train_data$Device.Model <- factor(train_data$Device.Model)\n",
        "test_data$Device.Model <- factor(test_data$Device.Model)\n",
        "\n",
        "# Multinomial Logistic Regression\n",
        "model <- multinom(Device.Model ~ App.Usage.Time..min.day. + Screen.On.Time..hours.day. +\n",
        "                    Battery.Drain..mAh.day. + Data.Usage..MB.day. + Age + Gender,\n",
        "                  data = train_data)\n",
        "\n",
        "# Predictions on the test set\n",
        "predicted_class <- predict(model, test_data)\n",
        "\n",
        "# Ensure predicted_class is a factor with the same levels as Device.Model in the test data\n",
        "predicted_class <- factor(predicted_class, levels = levels(test_data$Device.Model))\n",
        "\n",
        "# Accuracy calculation\n",
        "conf_matrix <- confusionMatrix(predicted_class, test_data$Device.Model)\n",
        "accuracy <- conf_matrix$overall['Accuracy']\n",
        "\n",
        "# Output the accuracy\n",
        "cat(\"Model Accuracy: \", accuracy, \"\\n\")\n"
      ],
      "metadata": {
        "colab": {
          "base_uri": "https://localhost:8080/"
        },
        "id": "RMqe2fVOAo0A",
        "outputId": "34ad12ca-b998-4265-a819-cb61d6defaed"
      },
      "execution_count": null,
      "outputs": [
        {
          "output_type": "stream",
          "name": "stderr",
          "text": [
            "Installing package into ‘/usr/local/lib/R/site-library’\n",
            "(as ‘lib’ is unspecified)\n",
            "\n",
            "Installing package into ‘/usr/local/lib/R/site-library’\n",
            "(as ‘lib’ is unspecified)\n",
            "\n"
          ]
        },
        {
          "output_type": "stream",
          "name": "stdout",
          "text": [
            "# weights:  40 (28 variable)\n",
            "initial  value 795.062329 \n",
            "iter  10 value 790.668396\n",
            "iter  20 value 785.068494\n",
            "iter  30 value 782.888457\n",
            "final  value 782.888305 \n",
            "converged\n",
            "Model Accuracy:  0.184466 \n"
          ]
        }
      ]
    },
    {
      "cell_type": "code",
      "source": [
        "install.packages(\"skimr\", repos = \"http://cran.us.r-project.org\")\n",
        "library(skimr)\n",
        "skim(dataset_clean)\n"
      ],
      "metadata": {
        "colab": {
          "base_uri": "https://localhost:8080/",
          "height": 315
        },
        "id": "P976P55jIx3U",
        "outputId": "51f9c843-cc4e-4262-de35-3cc86720fed1"
      },
      "execution_count": null,
      "outputs": [
        {
          "output_type": "stream",
          "name": "stderr",
          "text": [
            "Installing package into ‘/usr/local/lib/R/site-library’\n",
            "(as ‘lib’ is unspecified)\n",
            "\n"
          ]
        },
        {
          "output_type": "error",
          "ename": "ERROR",
          "evalue": "Error: object 'dataset_clean' not found\n",
          "traceback": [
            "Error: object 'dataset_clean' not found\nTraceback:\n",
            "1. .handleSimpleError(function (cnd) \n . {\n .     watcher$capture_plot_and_output()\n .     cnd <- sanitize_call(cnd)\n .     watcher$push(cnd)\n .     switch(on_error, continue = invokeRestart(\"eval_continue\"), \n .         stop = invokeRestart(\"eval_stop\"), error = invokeRestart(\"eval_error\", \n .             cnd))\n . }, \"object 'dataset_clean' not found\", base::quote(eval(expr, \n .     envir)))"
          ]
        }
      ]
    },
    {
      "cell_type": "code",
      "source": [
        "install.packages(\"summarytools\", repos = \"http://cran.us.r-project.org\") # Install the 'summarytools' package if not already installed\n",
        "install.packages(\"caTools\", repos = \"http://cran.us.r-project.org\")\n",
        "\n",
        "# Load the necessary libraries\n",
        "library(summarytools)\n",
        "library(caTools)\n",
        "\n",
        "# Load the dataset (adjust the path accordingly)\n",
        "dataset <- read.csv(\"user_behavior_dataset.csv\")  # Update path if needed\n",
        "\n",
        "# Check the structure and summary of the dataset\n",
        "str(dataset)\n",
        "summary(dataset)\n",
        "\n",
        "# Remove rows with missing values\n",
        "dataset_clean <- na.omit(dataset)\n",
        "\n",
        "# Remove duplicate rows\n",
        "dataset_clean <- dataset_clean[!duplicated(dataset_clean),]\n",
        "\n",
        "# Optional: view the cleaned dataset summary\n",
        "descr(dataset_clean)  # Using summarytools to describe the dataset\n",
        "\n",
        "# Split the dataset into training (70%) and testing (30%) sets\n",
        "set.seed(123)  # For reproducibility\n",
        "split <- sample.split(dataset_clean$App.Usage.Time..min.day., SplitRatio = 0.7)\n",
        "training_set <- subset(dataset_clean, split == TRUE)\n",
        "testing_set <- subset(dataset_clean, split == FALSE)\n",
        "\n",
        "# Build a linear regression model\n",
        "model <- lm(App.Usage.Time..min.day. ~ ., data = training_set)\n",
        "\n",
        "# Summary of the model\n",
        "summary(model)\n",
        "\n",
        "# Make predictions on the testing set\n",
        "predictions <- predict(model, newdata = testing_set)\n",
        "\n",
        "# Calculate Mean Absolute Error (MAE)\n",
        "mae <- mean(abs(predictions - testing_set$App.Usage.Time..min.day.))\n",
        "\n",
        "# Calculate Mean Squared Error (MSE)\n",
        "mse <- mean((predictions - testing_set$App.Usage.Time..min.day.)^2)\n",
        "\n",
        "# Calculate Root Mean Squared Error (RMSE)\n",
        "rmse <- sqrt(mse)\n",
        "\n",
        "# Calculate R-squared for the testing set\n",
        "ss_total <- sum((testing_set$App.Usage.Time..min.day. - mean(testing_set$App.Usage.Time..min.day.))^2)\n",
        "ss_residual <- sum((testing_set$App.Usage.Time..min.day. - predictions)^2)\n",
        "r_squared <- 1 - (ss_residual / ss_total)\n",
        "\n",
        "# Output results\n",
        "cat(\"Model Performance Metrics:\\n\")\n",
        "cat(\"Mean Absolute Error (MAE):\", mae, \"\\n\")\n",
        "cat(\"Mean Squared Error (MSE):\", mse, \"\\n\")\n",
        "cat(\"Root Mean Squared Error (RMSE):\", rmse, \"\\n\")\n",
        "cat(\"R-squared (Accuracy):\", r_squared * 100, \"%\\n\")\n"
      ],
      "metadata": {
        "colab": {
          "base_uri": "https://localhost:8080/",
          "height": 332
        },
        "id": "efhGrdAOTIqq",
        "outputId": "1303ed64-26d9-4997-fb72-bb9beecaf09f"
      },
      "execution_count": null,
      "outputs": [
        {
          "output_type": "stream",
          "name": "stderr",
          "text": [
            "Installing package into ‘/usr/local/lib/R/site-library’\n",
            "(as ‘lib’ is unspecified)\n",
            "\n",
            "also installing the dependency ‘magick’\n",
            "\n",
            "\n",
            "Warning message in install.packages(\"summarytools\", repos = \"http://cran.us.r-project.org\"):\n",
            "“installation of package ‘magick’ had non-zero exit status”\n",
            "Warning message in install.packages(\"summarytools\", repos = \"http://cran.us.r-project.org\"):\n",
            "“installation of package ‘summarytools’ had non-zero exit status”\n",
            "Installing package into ‘/usr/local/lib/R/site-library’\n",
            "(as ‘lib’ is unspecified)\n",
            "\n"
          ]
        },
        {
          "output_type": "error",
          "ename": "ERROR",
          "evalue": "Error in library(summarytools): there is no package called ‘summarytools’\n",
          "traceback": [
            "Error in library(summarytools): there is no package called ‘summarytools’\nTraceback:\n",
            "1. stop(packageNotFoundError(package, lib.loc, sys.call()))"
          ]
        }
      ]
    },
    {
      "cell_type": "code",
      "source": [
        "# Load necessary libraries\n",
        "library(tidyverse)\n",
        "library(summarytools)\n",
        "\n",
        "# List files in the directory\n",
        "list.files(path = \"../input\")\n",
        "\n",
        "# Load the dataset\n",
        "dataset <- read.csv(\"../input/mobile-device-usage-and-user-behavior-dataset/user_behavior_dataset.csv\")\n",
        "\n",
        "# View basic structure and summary of the dataset\n",
        "head(dataset)\n",
        "str(dataset)\n",
        "summary(dataset)\n",
        "\n",
        "# Check for missing values and duplicates\n",
        "sum(is.na(dataset))\n",
        "sum(duplicated(dataset))\n",
        "\n",
        "# Remove missing values and duplicate rows\n",
        "dataset_clean <- na.omit(dataset)\n",
        "dataset_clean <- dataset_clean[!duplicated(dataset_clean),]\n",
        "\n",
        "# Save the cleaned dataset\n",
        "write.csv(dataset_clean, \"/kaggle/working/cleaned_dataset.csv\")\n",
        "\n",
        "\n",
        "# Load necessary library\n",
        "library(caTools)\n",
        "\n",
        "# Split the dataset into training (70%) and testing (30%) sets\n",
        "set.seed(123) # For reproducibility\n",
        "split <- sample.split(dataset_clean$App.Usage.Time..min.day., SplitRatio = 0.7)\n",
        "training_set <- subset(dataset_clean, split == TRUE)\n",
        "testing_set <- subset(dataset_clean, split == FALSE)\n",
        "\n",
        "# Build a linear regression model\n",
        "model <- lm(App.Usage.Time..min.day. ~ ., data = training_set)\n",
        "\n",
        "# Summary of the model\n",
        "summary(model)\n",
        "\n",
        "# Make predictions on the testing set\n",
        "predictions <- predict(model, newdata = testing_set)\n",
        "\n",
        "# Calculate Mean Absolute Error (MAE)\n",
        "mae <- mean(abs(predictions - testing_set$App.Usage.Time..min.day.))\n",
        "\n",
        "# Calculate Mean Squared Error (MSE)\n",
        "mse <- mean((predictions - testing_set$App.Usage.Time..min.day.)^2)\n",
        "\n",
        "# Calculate Root Mean Squared Error (RMSE)\n",
        "rmse <- sqrt(mse)\n",
        "\n",
        "# Calculate R-squared for the testing set\n",
        "ss_total <- sum((testing_set$App.Usage.Time..min.day. - mean(testing_set$App.Usage.Time..min.day.))^2)\n",
        "ss_residual <- sum((testing_set$App.Usage.Time..min.day. - predictions)^2)\n",
        "r_squared <- 1 - (ss_residual / ss_total)\n",
        "\n",
        "# Output results\n",
        "cat(\"Model Performance Metrics:\\n\")\n",
        "cat(\"Mean Absolute Error (MAE):\", mae, \"\\n\")\n",
        "cat(\"Mean Squared Error (MSE):\", mse, \"\\n\")\n",
        "cat(\"Root Mean Squared Error (RMSE):\", rmse, \"\\n\")\n",
        "cat(\"R-squared (Accuracy):\", r_squared * 100, \"%\\n\")"
      ],
      "metadata": {
        "id": "bJsr_2F9U64e",
        "outputId": "1997216c-2070-437e-a966-eb9b363326fe",
        "colab": {
          "base_uri": "https://localhost:8080/",
          "height": 106
        }
      },
      "execution_count": null,
      "outputs": [
        {
          "output_type": "error",
          "ename": "ERROR",
          "evalue": "Error in library(summarytools): there is no package called ‘summarytools’\n",
          "traceback": [
            "Error in library(summarytools): there is no package called ‘summarytools’\nTraceback:\n",
            "1. stop(packageNotFoundError(package, lib.loc, sys.call()))"
          ]
        }
      ]
    },
    {
      "cell_type": "code",
      "source": [],
      "metadata": {
        "id": "5J55x3B-U79c"
      },
      "execution_count": null,
      "outputs": []
    }
  ]
}